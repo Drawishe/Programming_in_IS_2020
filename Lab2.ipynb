{
 "cells": [
  {
   "cell_type": "code",
   "execution_count": 1,
   "metadata": {},
   "outputs": [],
   "source": [
    "import pandas as pd\n",
    "import lxml.html as LH"
   ]
  },
  {
   "cell_type": "code",
   "execution_count": 2,
   "metadata": {},
   "outputs": [],
   "source": [
    "# Парсинг файла\n",
    "\n",
    "with open('plane.html', 'r') as pln:\n",
    "    contents = str(pln.read())\n",
    "    table = LH.fromstring(contents)\n",
    "\n",
    "    for tr in pd.read_html(contents):\n",
    "        trs = table.xpath('//td/@bgcolor')\n",
    "        # print(trs)\n",
    "\n",
    "pln.close()\n"
   ]
  },
  {
   "cell_type": "code",
   "execution_count": 3,
   "metadata": {},
   "outputs": [],
   "source": [
    "# Делаем списки для каждого цвета\n",
    "# R - Красный, G - Зеленый, B - Синий, Y - Яркость\n",
    "R = []\n",
    "G = []\n",
    "B = []\n",
    "Y = []"
   ]
  },
  {
   "cell_type": "code",
   "execution_count": 4,
   "metadata": {},
   "outputs": [],
   "source": [
    "# Преобразование из Hex в RGB\n",
    "\n",
    "for hx in trs:\n",
    "    s = str(hx)\n",
    "    # print(s)\n",
    "    # print(type(s))\n",
    "    hex = s.lstrip('#')\n",
    "    rgb = list(int(hex[i:i + 2], 16) for i in (0, 2, 4))\n",
    "    # print(rgb)\n",
    "\n",
    "    R.append(rgb[0])\n",
    "    G.append(rgb[1])\n",
    "    B.append(rgb[2])\n",
    "    \n",
    "    Y.append(round(0.299 * rgb[0] + 0.587 * rgb[1] + 0.114 * rgb[2]))  # Округление для получения нормальных цветов\n",
    "    #print(Y)"
   ]
  },
  {
   "cell_type": "code",
   "execution_count": 5,
   "metadata": {},
   "outputs": [],
   "source": [
    "# Dataframe из списка Y\n",
    "\n",
    "datafr = pd.DataFrame(data=Y, columns=['x1'])\n",
    "# print(datafr)"
   ]
  },
  {
   "cell_type": "code",
   "execution_count": 14,
   "metadata": {},
   "outputs": [
    {
     "data": {
      "image/png": "[encoded data removed]",
      "text/plain": [
       "<Figure size 432x288 with 1 Axes>"
      ]
     },
     "metadata": {
      "needs_background": "light"
     },
     "output_type": "display_data"
    }
   ],
   "source": [
    "# Нормальное распределение\n",
    "import seaborn as sns\n",
    "import matplotlib.pyplot as plt\n",
    "\n",
    "# plt.figure()\n",
    "plt.hist(datafr, bins = 40)\n",
    "plt.title('Область однородностей')\n",
    "# plt.savefig('pic2.pdf')\n",
    "plt.show()"
   ]
  },
  {
   "cell_type": "code",
   "execution_count": 7,
   "metadata": {},
   "outputs": [],
   "source": [
    "from colormap import rgb2hex\n",
    "\n",
    "YRED = []\n",
    "for spam in Y:\n",
    "    if 3 <= spam <= 33:\n",
    "        spam = rgb2hex(255, 0, 0)\n",
    "        YRED.append(spam)\n",
    "    else:\n",
    "        spam = rgb2hex(spam, spam, spam)\n",
    "        YRED.append(spam)"
   ]
  },
  {
   "cell_type": "code",
   "execution_count": 8,
   "metadata": {},
   "outputs": [],
   "source": [
    "# Итоговая таблица HTML\n",
    "\n",
    "test = 0\n",
    "fo = open('modified_plane.html', 'a')\n",
    "\n",
    "fo.write('<HTML><HEAD><TITLE>plane_2.html</TITLE></HEAD><BODY><TABLE BORDER=0 CELLPADDING=0 CELLSPACING=0><tr>')\n",
    "for row in YRED:\n",
    "    # fo.write('<TR>')\n",
    "\n",
    "    if test != 294:\n",
    "        fo.write(f'<TD BGCOLOR={row}>&nbsp;&nbsp;&nbsp;&nbsp;&nbsp;</TD>')\n",
    "        test += 1\n",
    "        # print(test)\n",
    "    else:\n",
    "        fo.write('</tr>')\n",
    "        fo.write('<tr>')\n",
    "        fo.write(f'<TD BGCOLOR={row}>&nbsp;&nbsp;&nbsp;&nbsp;&nbsp;</TD>')\n",
    "        # fo.write('</TR>')\n",
    "        test = 1\n",
    "\n",
    "fo.write('</TR></TABLE></BODY></HTML>')\n",
    "fo.close()"
   ]
  }
 ],
 "metadata": {
  "kernelspec": {
   "display_name": "Python 3",
   "language": "python",
   "name": "python3"
  },
  "language_info": {
   "codemirror_mode": {
    "name": "ipython",
    "version": 3
   },
   "file_extension": ".py",
   "mimetype": "text/x-python",
   "name": "python",
   "nbconvert_exporter": "python",
   "pygments_lexer": "ipython3",
   "version": "3.8.6"
  }
 },
 "nbformat": 4,
 "nbformat_minor": 4
}
