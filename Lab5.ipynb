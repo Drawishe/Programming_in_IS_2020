{
 "cells": [
  {
   "cell_type": "code",
   "execution_count": 1,
   "metadata": {},
   "outputs": [
    {
     "data": {
      "text/html": [
       "<div>\n",
       "<style scoped>\n",
       "    .dataframe tbody tr th:only-of-type {\n",
       "        vertical-align: middle;\n",
       "    }\n",
       "\n",
       "    .dataframe tbody tr th {\n",
       "        vertical-align: top;\n",
       "    }\n",
       "\n",
       "    .dataframe thead th {\n",
       "        text-align: right;\n",
       "    }\n",
       "</style>\n",
       "<table border=\"1\" class=\"dataframe\">\n",
       "  <thead>\n",
       "    <tr style=\"text-align: right;\">\n",
       "      <th></th>\n",
       "      <th>ranking</th>\n",
       "      <th>isIp</th>\n",
       "      <th>valid</th>\n",
       "      <th>activeDuration</th>\n",
       "      <th>urlLen</th>\n",
       "      <th>is@</th>\n",
       "      <th>isredirect</th>\n",
       "      <th>haveDash</th>\n",
       "      <th>domainLen</th>\n",
       "      <th>nosOfSubdomain</th>\n",
       "      <th>label</th>\n",
       "    </tr>\n",
       "  </thead>\n",
       "  <tbody>\n",
       "    <tr>\n",
       "      <th>0</th>\n",
       "      <td>10000000</td>\n",
       "      <td>0</td>\n",
       "      <td>0</td>\n",
       "      <td>0</td>\n",
       "      <td>20</td>\n",
       "      <td>0</td>\n",
       "      <td>0</td>\n",
       "      <td>1</td>\n",
       "      <td>20</td>\n",
       "      <td>2</td>\n",
       "      <td>1</td>\n",
       "    </tr>\n",
       "    <tr>\n",
       "      <th>1</th>\n",
       "      <td>194914</td>\n",
       "      <td>0</td>\n",
       "      <td>1</td>\n",
       "      <td>7305</td>\n",
       "      <td>42</td>\n",
       "      <td>0</td>\n",
       "      <td>0</td>\n",
       "      <td>0</td>\n",
       "      <td>12</td>\n",
       "      <td>2</td>\n",
       "      <td>0</td>\n",
       "    </tr>\n",
       "    <tr>\n",
       "      <th>2</th>\n",
       "      <td>10000000</td>\n",
       "      <td>0</td>\n",
       "      <td>0</td>\n",
       "      <td>0</td>\n",
       "      <td>155</td>\n",
       "      <td>0</td>\n",
       "      <td>0</td>\n",
       "      <td>0</td>\n",
       "      <td>14</td>\n",
       "      <td>1</td>\n",
       "      <td>1</td>\n",
       "    </tr>\n",
       "    <tr>\n",
       "      <th>3</th>\n",
       "      <td>7001</td>\n",
       "      <td>0</td>\n",
       "      <td>0</td>\n",
       "      <td>0</td>\n",
       "      <td>35</td>\n",
       "      <td>0</td>\n",
       "      <td>0</td>\n",
       "      <td>0</td>\n",
       "      <td>18</td>\n",
       "      <td>3</td>\n",
       "      <td>0</td>\n",
       "    </tr>\n",
       "    <tr>\n",
       "      <th>4</th>\n",
       "      <td>10000000</td>\n",
       "      <td>0</td>\n",
       "      <td>1</td>\n",
       "      <td>730</td>\n",
       "      <td>79</td>\n",
       "      <td>0</td>\n",
       "      <td>0</td>\n",
       "      <td>1</td>\n",
       "      <td>14</td>\n",
       "      <td>1</td>\n",
       "      <td>1</td>\n",
       "    </tr>\n",
       "    <tr>\n",
       "      <th>...</th>\n",
       "      <td>...</td>\n",
       "      <td>...</td>\n",
       "      <td>...</td>\n",
       "      <td>...</td>\n",
       "      <td>...</td>\n",
       "      <td>...</td>\n",
       "      <td>...</td>\n",
       "      <td>...</td>\n",
       "      <td>...</td>\n",
       "      <td>...</td>\n",
       "      <td>...</td>\n",
       "    </tr>\n",
       "    <tr>\n",
       "      <th>95905</th>\n",
       "      <td>5001</td>\n",
       "      <td>0</td>\n",
       "      <td>1</td>\n",
       "      <td>8035</td>\n",
       "      <td>28</td>\n",
       "      <td>0</td>\n",
       "      <td>0</td>\n",
       "      <td>0</td>\n",
       "      <td>16</td>\n",
       "      <td>2</td>\n",
       "      <td>0</td>\n",
       "    </tr>\n",
       "    <tr>\n",
       "      <th>95906</th>\n",
       "      <td>230251</td>\n",
       "      <td>0</td>\n",
       "      <td>1</td>\n",
       "      <td>8400</td>\n",
       "      <td>47</td>\n",
       "      <td>0</td>\n",
       "      <td>0</td>\n",
       "      <td>1</td>\n",
       "      <td>27</td>\n",
       "      <td>2</td>\n",
       "      <td>0</td>\n",
       "    </tr>\n",
       "    <tr>\n",
       "      <th>95907</th>\n",
       "      <td>10000000</td>\n",
       "      <td>0</td>\n",
       "      <td>0</td>\n",
       "      <td>0</td>\n",
       "      <td>43</td>\n",
       "      <td>0</td>\n",
       "      <td>0</td>\n",
       "      <td>0</td>\n",
       "      <td>29</td>\n",
       "      <td>3</td>\n",
       "      <td>1</td>\n",
       "    </tr>\n",
       "    <tr>\n",
       "      <th>95908</th>\n",
       "      <td>2008</td>\n",
       "      <td>0</td>\n",
       "      <td>1</td>\n",
       "      <td>9862</td>\n",
       "      <td>41</td>\n",
       "      <td>0</td>\n",
       "      <td>0</td>\n",
       "      <td>0</td>\n",
       "      <td>14</td>\n",
       "      <td>2</td>\n",
       "      <td>0</td>\n",
       "    </tr>\n",
       "    <tr>\n",
       "      <th>95909</th>\n",
       "      <td>771840</td>\n",
       "      <td>0</td>\n",
       "      <td>0</td>\n",
       "      <td>0</td>\n",
       "      <td>323</td>\n",
       "      <td>0</td>\n",
       "      <td>0</td>\n",
       "      <td>0</td>\n",
       "      <td>16</td>\n",
       "      <td>2</td>\n",
       "      <td>1</td>\n",
       "    </tr>\n",
       "  </tbody>\n",
       "</table>\n",
       "<p>95910 rows × 11 columns</p>\n",
       "</div>"
      ],
      "text/plain": [
       "        ranking  isIp  valid  activeDuration  urlLen  is@  isredirect  \\\n",
       "0      10000000     0      0               0      20    0           0   \n",
       "1        194914     0      1            7305      42    0           0   \n",
       "2      10000000     0      0               0     155    0           0   \n",
       "3          7001     0      0               0      35    0           0   \n",
       "4      10000000     0      1             730      79    0           0   \n",
       "...         ...   ...    ...             ...     ...  ...         ...   \n",
       "95905      5001     0      1            8035      28    0           0   \n",
       "95906    230251     0      1            8400      47    0           0   \n",
       "95907  10000000     0      0               0      43    0           0   \n",
       "95908      2008     0      1            9862      41    0           0   \n",
       "95909    771840     0      0               0     323    0           0   \n",
       "\n",
       "       haveDash  domainLen  nosOfSubdomain  label  \n",
       "0             1         20               2      1  \n",
       "1             0         12               2      0  \n",
       "2             0         14               1      1  \n",
       "3             0         18               3      0  \n",
       "4             1         14               1      1  \n",
       "...         ...        ...             ...    ...  \n",
       "95905         0         16               2      0  \n",
       "95906         1         27               2      0  \n",
       "95907         0         29               3      1  \n",
       "95908         0         14               2      0  \n",
       "95909         0         16               2      1  \n",
       "\n",
       "[95910 rows x 11 columns]"
      ]
     },
     "execution_count": 1,
     "metadata": {},
     "output_type": "execute_result"
    }
   ],
   "source": [
    "import pandas as pd\n",
    "import numpy as np\n",
    "df = pd.read_csv('combined_dataset.csv')\n",
    "df = df.drop(columns='domain')\n",
    "df"
   ]
  },
  {
   "cell_type": "code",
   "execution_count": 2,
   "metadata": {},
   "outputs": [
    {
     "data": {
      "text/plain": [
       "(95910, 11)"
      ]
     },
     "execution_count": 2,
     "metadata": {},
     "output_type": "execute_result"
    }
   ],
   "source": [
    "df.shape"
   ]
  },
  {
   "cell_type": "code",
   "execution_count": 3,
   "metadata": {},
   "outputs": [
    {
     "data": {
      "text/plain": [
       "(95910, 11)"
      ]
     },
     "execution_count": 3,
     "metadata": {},
     "output_type": "execute_result"
    }
   ],
   "source": [
    "df = df.dropna()\n",
    "df.shape"
   ]
  },
  {
   "cell_type": "code",
   "execution_count": 4,
   "metadata": {},
   "outputs": [],
   "source": [
    "# df = df.drop_duplicates()\n",
    "# df.shape"
   ]
  },
  {
   "cell_type": "code",
   "execution_count": 5,
   "metadata": {},
   "outputs": [],
   "source": [
    "from sklearn.model_selection import train_test_split"
   ]
  },
  {
   "cell_type": "code",
   "execution_count": 6,
   "metadata": {},
   "outputs": [
    {
     "name": "stdout",
     "output_type": "stream",
     "text": [
      "        ranking  isIp  valid  activeDuration  urlLen  is@  isredirect  \\\n",
      "6869   10000000     0      1            6939      44    0           0   \n",
      "35521  10000000     0      0               0     194    0           0   \n",
      "71511  10000000     0      0               0      35    0           0   \n",
      "65943  10000000     0      0               0      52    0           0   \n",
      "53929      4570     0      1            6939     343    0           0   \n",
      "...         ...   ...    ...             ...     ...  ...         ...   \n",
      "21243        29     0      1           10959     117    0           0   \n",
      "45891  10000000     0      0               0      33    0           0   \n",
      "42613    836190     0      0               0      42    0           0   \n",
      "43567     56482     0      1            7670      34    0           0   \n",
      "68268  10000000     0      1             731     102    0           0   \n",
      "\n",
      "       haveDash  domainLen  nosOfSubdomain  \n",
      "6869          0         21               2  \n",
      "35521         0         16               2  \n",
      "71511         1         17               2  \n",
      "65943         0         29               3  \n",
      "53929         1         44               2  \n",
      "...         ...        ...             ...  \n",
      "21243         0         21               2  \n",
      "45891         0         22               3  \n",
      "42613         0         17               3  \n",
      "43567         0         21               2  \n",
      "68268         0         15               2  \n",
      "\n",
      "[71932 rows x 10 columns]         ranking  isIp  valid  activeDuration  urlLen  is@  isredirect  \\\n",
      "85997  10000000     0      0               0      95    0           0   \n",
      "88769  10000000     0      1            9498      36    0           0   \n",
      "33518  10000000     0      0               0     176    0           0   \n",
      "93113  10000000     0      0               0      57    0           0   \n",
      "8350       4196     0      1            9133      41    0           0   \n",
      "...         ...   ...    ...             ...     ...  ...         ...   \n",
      "20219     12989     0      0               0      19    0           0   \n",
      "9050       4570     0      1            6939     369    0           0   \n",
      "80250  10000000     0      1            4018     325    0           0   \n",
      "26292    426148     0      1            5114      42    0           0   \n",
      "72280     15148     0      0               0      55    0           0   \n",
      "\n",
      "       haveDash  domainLen  nosOfSubdomain  \n",
      "85997         0         13               1  \n",
      "88769         1         16               2  \n",
      "33518         0          7               1  \n",
      "93113         1         18               2  \n",
      "8350          0         16               1  \n",
      "...         ...        ...             ...  \n",
      "20219         0         14               3  \n",
      "9050          1         44               2  \n",
      "80250         1         17               1  \n",
      "26292         0         19               2  \n",
      "72280         0         16               2  \n",
      "\n",
      "[23978 rows x 10 columns]\n"
     ]
    }
   ],
   "source": [
    "points_train, points_test, labels_train, labels_test = train_test_split(df.iloc[:, :-1], df['label'], test_size=0.25, random_state=0)\n",
    "print(points_train, points_test)"
   ]
  },
  {
   "cell_type": "code",
   "execution_count": 7,
   "metadata": {},
   "outputs": [
    {
     "name": "stdout",
     "output_type": "stream",
     "text": [
      "(71932, 10) (23978, 10)\n"
     ]
    }
   ],
   "source": [
    "print(points_train.shape, points_test.shape)"
   ]
  },
  {
   "cell_type": "code",
   "execution_count": 8,
   "metadata": {},
   "outputs": [
    {
     "data": {
      "text/plain": [
       "GaussianNB()"
      ]
     },
     "execution_count": 8,
     "metadata": {},
     "output_type": "execute_result"
    }
   ],
   "source": [
    "from sklearn.naive_bayes import GaussianNB\n",
    "gnb = GaussianNB()\n",
    "gnb.fit(points_train, labels_train)"
   ]
  },
  {
   "cell_type": "code",
   "execution_count": 9,
   "metadata": {},
   "outputs": [
    {
     "name": "stdout",
     "output_type": "stream",
     "text": [
      "        ranking  isIp  valid  activeDuration  urlLen  is@  isredirect  \\\n",
      "85997  10000000     0      0               0      95    0           0   \n",
      "88769  10000000     0      1            9498      36    0           0   \n",
      "33518  10000000     0      0               0     176    0           0   \n",
      "93113  10000000     0      0               0      57    0           0   \n",
      "8350       4196     0      1            9133      41    0           0   \n",
      "...         ...   ...    ...             ...     ...  ...         ...   \n",
      "20219     12989     0      0               0      19    0           0   \n",
      "9050       4570     0      1            6939     369    0           0   \n",
      "80250  10000000     0      1            4018     325    0           0   \n",
      "26292    426148     0      1            5114      42    0           0   \n",
      "72280     15148     0      0               0      55    0           0   \n",
      "\n",
      "       haveDash  domainLen  nosOfSubdomain  predict  \n",
      "85997         0         13               1        1  \n",
      "88769         1         16               2        0  \n",
      "33518         0          7               1        1  \n",
      "93113         1         18               2        1  \n",
      "8350          0         16               1        0  \n",
      "...         ...        ...             ...      ...  \n",
      "20219         0         14               3        0  \n",
      "9050          1         44               2        0  \n",
      "80250         1         17               1        1  \n",
      "26292         0         19               2        0  \n",
      "72280         0         16               2        0  \n",
      "\n",
      "[23978 rows x 11 columns]\n"
     ]
    }
   ],
   "source": [
    "prediction = gnb.predict(points_test)\n",
    "print(points_test.assign(predict=prediction))"
   ]
  },
  {
   "cell_type": "code",
   "execution_count": 10,
   "metadata": {},
   "outputs": [
    {
     "name": "stdout",
     "output_type": "stream",
     "text": [
      "0.8247560263574943\n"
     ]
    }
   ],
   "source": [
    "print(format(gnb.score(points_test, labels_test)))"
   ]
  },
  {
   "cell_type": "code",
   "execution_count": 11,
   "metadata": {},
   "outputs": [
    {
     "name": "stdout",
     "output_type": "stream",
     "text": [
      "6118618.437576895\n",
      "4835228.3660928365\n"
     ]
    }
   ],
   "source": [
    "# Математическое ожидание и среднеквадратическое отклонение для ranking\n",
    "mean_ranking = np.mean(df['ranking'])\n",
    "print(mean_ranking)\n",
    "std_ranking = np.std(df['ranking'])\n",
    "print(std_ranking)"
   ]
  },
  {
   "cell_type": "code",
   "execution_count": 12,
   "metadata": {},
   "outputs": [
    {
     "name": "stdout",
     "output_type": "stream",
     "text": [
      "-8387066.660701615 20624303.535855405\n"
     ]
    }
   ],
   "source": [
    "# Отрицательный и положительный доверительные интервалы для ranking\n",
    "otric_dover_int_ranking = mean_ranking - 3 * std_ranking\n",
    "poloj_dover_int_ranking = mean_ranking + 3 * std_ranking\n",
    "print(otric_dover_int_ranking, poloj_dover_int_ranking)"
   ]
  },
  {
   "cell_type": "code",
   "execution_count": 13,
   "metadata": {},
   "outputs": [
    {
     "name": "stdout",
     "output_type": "stream",
     "text": [
      "0.000229381712021687\n",
      "0.015143615686218304\n"
     ]
    }
   ],
   "source": [
    "# Математическое ожидание и среднеквадратическое отклонение для isIp\n",
    "mean_isIp = np.mean(df['isIp'])\n",
    "print(mean_isIp)\n",
    "std_isIp = np.std(df['isIp'])\n",
    "print(std_isIp)"
   ]
  },
  {
   "cell_type": "code",
   "execution_count": 14,
   "metadata": {},
   "outputs": [
    {
     "name": "stdout",
     "output_type": "stream",
     "text": [
      "-0.045201465346633225 0.045660228770676596\n"
     ]
    }
   ],
   "source": [
    "# Отрицательный и положительный доверительные интервалы для isIp\n",
    "otric_dover_int_isIp = mean_isIp - 3 * std_isIp\n",
    "poloj_dover_int_isIp = mean_isIp + 3 * std_isIp\n",
    "print(otric_dover_int_isIp, poloj_dover_int_isIp)"
   ]
  },
  {
   "cell_type": "code",
   "execution_count": 15,
   "metadata": {},
   "outputs": [
    {
     "name": "stdout",
     "output_type": "stream",
     "text": [
      "0.5738921905953498\n",
      "0.4945098018937748\n"
     ]
    }
   ],
   "source": [
    "# Математическое ожидание и среднеквадратическое отклонение для valid\n",
    "mean_valid = np.mean(df['valid'])\n",
    "print(mean_valid)\n",
    "std_valid = np.std(df['valid'])\n",
    "print(std_valid)"
   ]
  },
  {
   "cell_type": "code",
   "execution_count": 16,
   "metadata": {},
   "outputs": [
    {
     "name": "stdout",
     "output_type": "stream",
     "text": [
      "-0.9096372150859746 2.057421596276674\n"
     ]
    }
   ],
   "source": [
    "# Отрицательный и положительный доверительные интервалы для valid\n",
    "otric_dover_int_valid = mean_valid - 3 * std_valid\n",
    "poloj_dover_int_valid = mean_valid + 3 * std_valid\n",
    "print(otric_dover_int_valid, poloj_dover_int_valid)"
   ]
  },
  {
   "cell_type": "code",
   "execution_count": 17,
   "metadata": {},
   "outputs": [
    {
     "name": "stdout",
     "output_type": "stream",
     "text": [
      "3747.87614430195\n",
      "3974.5664677818577\n"
     ]
    }
   ],
   "source": [
    "# Математическое ожидание и среднеквадратическое отклонение для activeDuration\n",
    "mean_activeDuration = np.mean(df['activeDuration'])\n",
    "print(mean_activeDuration)\n",
    "std_activeDuration = np.std(df['activeDuration'])\n",
    "print(std_activeDuration)"
   ]
  },
  {
   "cell_type": "code",
   "execution_count": 18,
   "metadata": {},
   "outputs": [
    {
     "name": "stdout",
     "output_type": "stream",
     "text": [
      "-8175.823259043624 15671.575547647524\n"
     ]
    }
   ],
   "source": [
    "# Отрицательный и положительный доверительные интервалы для activeDuration\n",
    "otric_dover_int_activeDuration = mean_activeDuration - 3 * std_activeDuration\n",
    "poloj_dover_int_activeDuration = mean_activeDuration + 3 * std_activeDuration\n",
    "print(otric_dover_int_activeDuration, poloj_dover_int_activeDuration)"
   ]
  },
  {
   "cell_type": "code",
   "execution_count": 19,
   "metadata": {},
   "outputs": [
    {
     "name": "stdout",
     "output_type": "stream",
     "text": [
      "69.32744239391096\n",
      "69.73977067140507\n"
     ]
    }
   ],
   "source": [
    "# Математическое ожидание и среднеквадратическое отклонение для urlLen\n",
    "mean_urlLen = np.mean(df['urlLen'])\n",
    "print(mean_urlLen)\n",
    "std_urlLen = np.std(df['urlLen'])\n",
    "print(std_urlLen)"
   ]
  },
  {
   "cell_type": "code",
   "execution_count": 20,
   "metadata": {},
   "outputs": [
    {
     "name": "stdout",
     "output_type": "stream",
     "text": [
      "-139.89186962030425 278.54675440812616\n"
     ]
    }
   ],
   "source": [
    "# Отрицательный и положительный доверительные интервалы для urlLen\n",
    "otric_dover_int_urlLen = mean_urlLen - 3 * std_urlLen\n",
    "poloj_dover_int_urlLen = mean_urlLen + 3 * std_urlLen\n",
    "print(otric_dover_int_urlLen, poloj_dover_int_urlLen)"
   ]
  },
  {
   "cell_type": "code",
   "execution_count": 21,
   "metadata": {},
   "outputs": [
    {
     "name": "stdout",
     "output_type": "stream",
     "text": [
      "0.0027734334271713066\n",
      "0.05259031749472857\n"
     ]
    }
   ],
   "source": [
    "# Математическое ожидание и среднеквадратическое отклонение для is@\n",
    "mean_issob = np.mean(df['is@'])\n",
    "print(mean_issob)\n",
    "std_issob = np.std(df['is@'])\n",
    "print(std_issob)"
   ]
  },
  {
   "cell_type": "code",
   "execution_count": 22,
   "metadata": {},
   "outputs": [
    {
     "name": "stdout",
     "output_type": "stream",
     "text": [
      "-0.1549975190570144 0.16054438591135703\n"
     ]
    }
   ],
   "source": [
    "# Отрицательный и положительный доверительные интервалы для issob\n",
    "otric_dover_int_issob = mean_issob - 3 * std_issob\n",
    "poloj_dover_int_issob = mean_issob + 3 * std_issob\n",
    "print(otric_dover_int_issob, poloj_dover_int_issob)"
   ]
  },
  {
   "cell_type": "code",
   "execution_count": 23,
   "metadata": {},
   "outputs": [
    {
     "name": "stdout",
     "output_type": "stream",
     "text": [
      "0.007444479199249296\n",
      "0.08595963546165863\n"
     ]
    }
   ],
   "source": [
    "# Математическое ожидание и среднеквадратическое отклонение для isredirect\n",
    "mean_isredirect = np.mean(df['isredirect'])\n",
    "print(mean_isredirect)\n",
    "std_isredirect = np.std(df['isredirect'])\n",
    "print(std_isredirect)"
   ]
  },
  {
   "cell_type": "code",
   "execution_count": 24,
   "metadata": {},
   "outputs": [
    {
     "name": "stdout",
     "output_type": "stream",
     "text": [
      "-0.2504344271857266 0.2653233855842252\n"
     ]
    }
   ],
   "source": [
    "# Отрицательный и положительный доверительные интервалы для isredirect\n",
    "otric_dover_int_isredirect = mean_isredirect - 3 * std_isredirect\n",
    "poloj_dover_int_isredirect = mean_isredirect + 3 * std_isredirect\n",
    "print(otric_dover_int_isredirect, poloj_dover_int_isredirect)"
   ]
  },
  {
   "cell_type": "code",
   "execution_count": 25,
   "metadata": {},
   "outputs": [
    {
     "name": "stdout",
     "output_type": "stream",
     "text": [
      "0.1578563236367428\n",
      "0.36460623242703183\n"
     ]
    }
   ],
   "source": [
    "# Математическое ожидание и среднеквадратическое отклонение для haveDash\n",
    "mean_haveDash = np.mean(df['haveDash'])\n",
    "print(mean_haveDash)\n",
    "std_haveDash = np.std(df['haveDash'])\n",
    "print(std_haveDash)"
   ]
  },
  {
   "cell_type": "code",
   "execution_count": 26,
   "metadata": {},
   "outputs": [
    {
     "name": "stdout",
     "output_type": "stream",
     "text": [
      "-0.9359623736443528 1.2516750209178382\n"
     ]
    }
   ],
   "source": [
    "# Отрицательный и положительный доверительные интервалы для haveDash\n",
    "otric_dover_int_haveDash = mean_haveDash - 3 * std_haveDash\n",
    "poloj_dover_int_haveDash = mean_haveDash + 3 * std_haveDash\n",
    "print(otric_dover_int_haveDash, poloj_dover_int_haveDash)"
   ]
  },
  {
   "cell_type": "code",
   "execution_count": 27,
   "metadata": {},
   "outputs": [
    {
     "name": "stdout",
     "output_type": "stream",
     "text": [
      "23.409060577624857\n",
      "25.426719245174212\n"
     ]
    }
   ],
   "source": [
    "# Математическое ожидание и среднеквадратическое отклонение для domainLen\n",
    "mean_domainLen = np.mean(df['domainLen'])\n",
    "print(mean_domainLen)\n",
    "std_domainLen = np.std(df['domainLen'])\n",
    "print(std_domainLen)"
   ]
  },
  {
   "cell_type": "code",
   "execution_count": 28,
   "metadata": {},
   "outputs": [
    {
     "name": "stdout",
     "output_type": "stream",
     "text": [
      "-52.87109715789778 99.68921831314749\n"
     ]
    }
   ],
   "source": [
    "# Отрицательный и положительный доверительные интервалы для domainLen\n",
    "otric_dover_int_domainLen = mean_domainLen - 3 * std_domainLen\n",
    "poloj_dover_int_domainLen = mean_domainLen + 3 * std_domainLen\n",
    "print(otric_dover_int_domainLen, poloj_dover_int_domainLen)"
   ]
  },
  {
   "cell_type": "code",
   "execution_count": 29,
   "metadata": {},
   "outputs": [
    {
     "name": "stdout",
     "output_type": "stream",
     "text": [
      "2.387717651965384\n",
      "2.1409861321646417\n"
     ]
    }
   ],
   "source": [
    "# Математическое ожидание и среднеквадратическое отклонение для nosOfSubdomain\n",
    "mean_nosOfSubdomain = np.mean(df['nosOfSubdomain'])\n",
    "print(mean_nosOfSubdomain)\n",
    "std_nosOfSubdomain = np.std(df['nosOfSubdomain'])\n",
    "print(std_nosOfSubdomain)"
   ]
  },
  {
   "cell_type": "code",
   "execution_count": 30,
   "metadata": {},
   "outputs": [
    {
     "name": "stdout",
     "output_type": "stream",
     "text": [
      "-4.035240744528541 8.81067604845931\n"
     ]
    }
   ],
   "source": [
    "# Отрицательный и положительный доверительные интервалы для nosOfSubdomain\n",
    "otric_dover_int_nosOfSubdomain = mean_nosOfSubdomain - 3 * std_nosOfSubdomain\n",
    "poloj_dover_int_nosOfSubdomain = mean_nosOfSubdomain + 3 * std_nosOfSubdomain\n",
    "print(otric_dover_int_nosOfSubdomain, poloj_dover_int_nosOfSubdomain)"
   ]
  },
  {
   "cell_type": "code",
   "execution_count": 31,
   "metadata": {},
   "outputs": [],
   "source": [
    "# Проверка на доверительные интервалы\n",
    "prediction_check = []\n",
    "def check_on_dov_intervals():\n",
    "    anomalyclass = 2\n",
    "    for i in points_new.index:\n",
    "        elem = prediction_new[i]\n",
    "        if (points_new.iloc[i][0] < otric_dover_int_ranking or points_new.iloc[i][0] > poloj_dover_int_ranking) or (points_new.iloc[i][1] < otric_dover_int_isIp or points_new.iloc[i][1] > poloj_dover_int_isIp) or (points_new.iloc[i][2] < otric_dover_int_valid or points_new.iloc[i][2] > poloj_dover_int_valid) or (points_new.iloc[i][3] < otric_dover_int_activeDuration or points_new.iloc[i][3] > poloj_dover_int_activeDuration) or (points_new.iloc[i][4] < otric_dover_int_urlLen or points_new.iloc[i][4] > poloj_dover_int_urlLen) or (points_new.iloc[i][5] < otric_dover_int_issob or points_new.iloc[i][5] > poloj_dover_int_issob) or (points_new.iloc[i][6] < otric_dover_int_isredirect or points_new.iloc[i][6] > poloj_dover_int_isredirect) or (points_new.iloc[i][7] < otric_dover_int_haveDash or points_new.iloc[i][7] > poloj_dover_int_haveDash) or (points_new.iloc[i][8] < otric_dover_int_domainLen or points_new.iloc[i][8] > poloj_dover_int_domainLen) or (points_new.iloc[i][9] < otric_dover_int_nosOfSubdomain or points_new.iloc[i][9] > poloj_dover_int_nosOfSubdomain): \n",
    "            prediction_check.append(anomalyclass)\n",
    "        else:\n",
    "            prediction_check.append(int(elem))\n",
    "    print(prediction_check)\n",
    "    print(len(prediction_check))"
   ]
  },
  {
   "cell_type": "code",
   "execution_count": 32,
   "metadata": {},
   "outputs": [],
   "source": [
    "# Задаем дополнительные значения\n",
    "points_new = pd.DataFrame({'ranking': [0, 200, 170, 10000000],\n",
    "                           'isIp': [0, 0, 1, 0],\n",
    "                           'valid': [1, 0, 1, 0],\n",
    "                           'activeDuration': [0, 1, 0, 0],\n",
    "                           'urlLen':[0, 10, 22, 20],\n",
    "                           'is@':[1, 1, 0, 0],\n",
    "                           'isredirect':[1, 0, 1, 0],\n",
    "                           'haveDash':[0, 0, 1, 1],\n",
    "                           'domainLen':[190, 10, 500, 20],\n",
    "                           'nosOfSubdomain':[1, 3, 2, 2],\n",
    "                           })"
   ]
  },
  {
   "cell_type": "code",
   "execution_count": 33,
   "metadata": {},
   "outputs": [],
   "source": [
    "prediction_new = gnb.predict(points_new)"
   ]
  },
  {
   "cell_type": "code",
   "execution_count": 34,
   "metadata": {},
   "outputs": [
    {
     "name": "stdout",
     "output_type": "stream",
     "text": [
      "[2, 2, 2, 1]\n",
      "4\n",
      "None\n"
     ]
    }
   ],
   "source": [
    "print(check_on_dov_intervals())"
   ]
  },
  {
   "cell_type": "code",
   "execution_count": 35,
   "metadata": {},
   "outputs": [
    {
     "data": {
      "text/html": [
       "<div>\n",
       "<style scoped>\n",
       "    .dataframe tbody tr th:only-of-type {\n",
       "        vertical-align: middle;\n",
       "    }\n",
       "\n",
       "    .dataframe tbody tr th {\n",
       "        vertical-align: top;\n",
       "    }\n",
       "\n",
       "    .dataframe thead th {\n",
       "        text-align: right;\n",
       "    }\n",
       "</style>\n",
       "<table border=\"1\" class=\"dataframe\">\n",
       "  <thead>\n",
       "    <tr style=\"text-align: right;\">\n",
       "      <th></th>\n",
       "      <th>ranking</th>\n",
       "      <th>isIp</th>\n",
       "      <th>valid</th>\n",
       "      <th>activeDuration</th>\n",
       "      <th>urlLen</th>\n",
       "      <th>is@</th>\n",
       "      <th>isredirect</th>\n",
       "      <th>haveDash</th>\n",
       "      <th>domainLen</th>\n",
       "      <th>nosOfSubdomain</th>\n",
       "      <th>label</th>\n",
       "    </tr>\n",
       "  </thead>\n",
       "  <tbody>\n",
       "    <tr>\n",
       "      <th>0</th>\n",
       "      <td>0</td>\n",
       "      <td>0</td>\n",
       "      <td>1</td>\n",
       "      <td>0</td>\n",
       "      <td>0</td>\n",
       "      <td>1</td>\n",
       "      <td>1</td>\n",
       "      <td>0</td>\n",
       "      <td>190</td>\n",
       "      <td>1</td>\n",
       "      <td>2</td>\n",
       "    </tr>\n",
       "    <tr>\n",
       "      <th>1</th>\n",
       "      <td>200</td>\n",
       "      <td>0</td>\n",
       "      <td>0</td>\n",
       "      <td>1</td>\n",
       "      <td>10</td>\n",
       "      <td>1</td>\n",
       "      <td>0</td>\n",
       "      <td>0</td>\n",
       "      <td>10</td>\n",
       "      <td>3</td>\n",
       "      <td>2</td>\n",
       "    </tr>\n",
       "    <tr>\n",
       "      <th>2</th>\n",
       "      <td>170</td>\n",
       "      <td>1</td>\n",
       "      <td>1</td>\n",
       "      <td>0</td>\n",
       "      <td>22</td>\n",
       "      <td>0</td>\n",
       "      <td>1</td>\n",
       "      <td>1</td>\n",
       "      <td>500</td>\n",
       "      <td>2</td>\n",
       "      <td>2</td>\n",
       "    </tr>\n",
       "    <tr>\n",
       "      <th>3</th>\n",
       "      <td>10000000</td>\n",
       "      <td>0</td>\n",
       "      <td>0</td>\n",
       "      <td>0</td>\n",
       "      <td>20</td>\n",
       "      <td>0</td>\n",
       "      <td>0</td>\n",
       "      <td>1</td>\n",
       "      <td>20</td>\n",
       "      <td>2</td>\n",
       "      <td>1</td>\n",
       "    </tr>\n",
       "  </tbody>\n",
       "</table>\n",
       "</div>"
      ],
      "text/plain": [
       "    ranking  isIp  valid  activeDuration  urlLen  is@  isredirect  haveDash  \\\n",
       "0         0     0      1               0       0    1           1         0   \n",
       "1       200     0      0               1      10    1           0         0   \n",
       "2       170     1      1               0      22    0           1         1   \n",
       "3  10000000     0      0               0      20    0           0         1   \n",
       "\n",
       "   domainLen  nosOfSubdomain  label  \n",
       "0        190               1      2  \n",
       "1         10               3      2  \n",
       "2        500               2      2  \n",
       "3         20               2      1  "
      ]
     },
     "execution_count": 35,
     "metadata": {},
     "output_type": "execute_result"
    }
   ],
   "source": [
    "points_new.assign(label=prediction_check)"
   ]
  }
 ],
 "metadata": {
  "kernelspec": {
   "display_name": "Python 3",
   "language": "python",
   "name": "python3"
  },
  "language_info": {
   "codemirror_mode": {
    "name": "ipython",
    "version": 3
   },
   "file_extension": ".py",
   "mimetype": "text/x-python",
   "name": "python",
   "nbconvert_exporter": "python",
   "pygments_lexer": "ipython3",
   "version": "3.8.6"
  }
 },
 "nbformat": 4,
 "nbformat_minor": 4
}
