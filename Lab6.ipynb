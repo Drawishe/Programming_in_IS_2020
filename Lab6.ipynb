{
 "cells": [
  {
   "cell_type": "code",
   "execution_count": 1,
   "metadata": {},
   "outputs": [],
   "source": [
    "from PIL import Image, ImageDraw\n",
    "import numpy as np\n",
    "import pandas as pd"
   ]
  },
  {
   "cell_type": "code",
   "execution_count": 2,
   "metadata": {},
   "outputs": [],
   "source": [
    "# Открываем изображения кожи\n",
    "im1 = Image.open('leather/1.png')\n",
    "im2 = Image.open('leather/2.png')\n",
    "im3 = Image.open('leather/3.png')\n",
    "im4 = Image.open('leather/4.png')\n",
    "im5 = Image.open('leather/5.png')\n",
    "im6 = Image.open('leather/6.png')\n",
    "im7 = Image.open('leather/7.png')\n",
    "im8 = Image.open('leather/8.png')\n",
    "im9 = Image.open('leather/9.png')\n",
    "im10 = Image.open('leather/10.png')"
   ]
  },
  {
   "cell_type": "code",
   "execution_count": 3,
   "metadata": {},
   "outputs": [],
   "source": [
    "# Считываем пиксели, создаем массив с пикселями кожи\n",
    "pixelsLeather_1 = list(im1.getdata())\n",
    "pixelsLeather_2 = list(im2.getdata())\n",
    "pixelsLeather_3 = list(im3.getdata())\n",
    "pixelsLeather_4 = list(im4.getdata())\n",
    "pixelsLeather_5 = list(im5.getdata())\n",
    "pixelsLeather_6 = list(im6.getdata())\n",
    "pixelsLeather_7 = list(im7.getdata())\n",
    "pixelsLeather_8 = list(im8.getdata())\n",
    "pixelsLeather_9 = list(im9.getdata())\n",
    "pixelsLeather_10 = list(im10.getdata())\n",
    "\n",
    "pixels_ALL_Leather = []\n",
    "pixels_ALL_Leather.extend(pixelsLeather_1)\n",
    "pixels_ALL_Leather.extend(pixelsLeather_2)\n",
    "pixels_ALL_Leather.extend(pixelsLeather_3)\n",
    "pixels_ALL_Leather.extend(pixelsLeather_4)\n",
    "pixels_ALL_Leather.extend(pixelsLeather_5)\n",
    "pixels_ALL_Leather.extend(pixelsLeather_6)\n",
    "pixels_ALL_Leather.extend(pixelsLeather_7)\n",
    "pixels_ALL_Leather.extend(pixelsLeather_8)\n",
    "pixels_ALL_Leather.extend(pixelsLeather_9)\n",
    "pixels_ALL_Leather.extend(pixelsLeather_10)\n",
    "# print(pixels_ALL_Leather)"
   ]
  },
  {
   "cell_type": "code",
   "execution_count": 4,
   "metadata": {},
   "outputs": [
    {
     "name": "stdout",
     "output_type": "stream",
     "text": [
      "          R    G    B  label\n",
      "0       192  130  113      1\n",
      "1       192  132  109      1\n",
      "2       192  132  109      1\n",
      "3       193  131  109      1\n",
      "4       193  131  109      1\n",
      "...     ...  ...  ...    ...\n",
      "139577  240  224  210      1\n",
      "139578  240  224  210      1\n",
      "139579  247  228  219      1\n",
      "139580  247  228  219      1\n",
      "139581  245  226  217      1\n",
      "\n",
      "[139582 rows x 4 columns]\n"
     ]
    }
   ],
   "source": [
    "# Создаем датафрейм из этого списка, удаляем столбец, отвечающий за прозрачность, присваиваем label = 1, данным значениям, удаляем дубликаты\n",
    "np.reshape(pixels_ALL_Leather,(len(pixels_ALL_Leather), 4))\n",
    "df_Leather = pd.DataFrame(data=pixels_ALL_Leather, columns = ['R','G','B','H'])\n",
    "del df_Leather['H']\n",
    "df_Leather['label'] = 1\n",
    "# df_Leather = df_Leather.drop_duplicates()\n",
    "print(df_Leather)"
   ]
  },
  {
   "cell_type": "code",
   "execution_count": 5,
   "metadata": {},
   "outputs": [],
   "source": [
    "# Открываем изображения не относящиеся к коже\n",
    "im11 = Image.open('samples/1.png')\n",
    "im12 = Image.open('samples/2.png')\n",
    "im13 = Image.open('samples/3.png')\n",
    "im14 = Image.open('samples/4.png')\n",
    "im15 = Image.open('samples/5.png')\n",
    "im16 = Image.open('samples/6.png')\n",
    "im17 = Image.open('samples/7.png')"
   ]
  },
  {
   "cell_type": "code",
   "execution_count": 6,
   "metadata": {},
   "outputs": [],
   "source": [
    "# Считываем пиксели, создаем массив с пикселями не содержащими кожу\n",
    "pixelsSample_1 = list(im11.getdata())\n",
    "pixelsSample_2 = list(im12.getdata())\n",
    "pixelsSample_3 = list(im13.getdata())\n",
    "pixelsSample_4 = list(im14.getdata())\n",
    "pixelsSample_5 = list(im15.getdata())\n",
    "pixelsSample_6 = list(im16.getdata())\n",
    "pixelsSample_7 = list(im17.getdata())\n",
    "\n",
    "pixels_NOT_Leather = []\n",
    "pixels_NOT_Leather.extend(pixelsSample_1)\n",
    "pixels_NOT_Leather.extend(pixelsSample_2)\n",
    "pixels_NOT_Leather.extend(pixelsSample_3)\n",
    "pixels_NOT_Leather.extend(pixelsSample_4)\n",
    "pixels_NOT_Leather.extend(pixelsSample_5)\n",
    "pixels_NOT_Leather.extend(pixelsSample_6)\n",
    "pixels_NOT_Leather.extend(pixelsSample_7)"
   ]
  },
  {
   "cell_type": "code",
   "execution_count": 7,
   "metadata": {},
   "outputs": [
    {
     "name": "stdout",
     "output_type": "stream",
     "text": [
      "           R   G   B  label\n",
      "0          0  36  94      0\n",
      "101        0  35  93      0\n",
      "216        0  34  92      0\n",
      "224        0  35  95      0\n",
      "226        0  36  96      0\n",
      "...      ...  ..  ..    ...\n",
      "7880004  145  37  52      0\n",
      "7880006  148   0   6      0\n",
      "7880010  143   7   9      0\n",
      "7880012  145   0   8      0\n",
      "7880076  112   2   5      0\n",
      "\n",
      "[544286 rows x 4 columns]\n"
     ]
    }
   ],
   "source": [
    "# Создаем датафрейм из этого списка, удаляем столбец, отвечающий за прозрачность, присваиваем label = 0, данным значениям, удаляем дубликаты\n",
    "np.reshape(pixels_NOT_Leather,(len(pixels_NOT_Leather), 4))\n",
    "df_Samples = pd.DataFrame(data=pixels_NOT_Leather, columns = ['R','G','B','H'])\n",
    "del df_Samples['H']\n",
    "df_Samples['label'] = 0\n",
    "df_Samples = df_Samples.drop_duplicates()\n",
    "print(df_Samples)"
   ]
  },
  {
   "cell_type": "code",
   "execution_count": 8,
   "metadata": {},
   "outputs": [
    {
     "name": "stdout",
     "output_type": "stream",
     "text": [
      "           R    G    B  label\n",
      "0        192  130  113      1\n",
      "1        192  132  109      1\n",
      "2        192  132  109      1\n",
      "3        193  131  109      1\n",
      "4        193  131  109      1\n",
      "...      ...  ...  ...    ...\n",
      "7880004  145   37   52      0\n",
      "7880006  148    0    6      0\n",
      "7880010  143    7    9      0\n",
      "7880012  145    0    8      0\n",
      "7880076  112    2    5      0\n",
      "\n",
      "[683868 rows x 4 columns]\n"
     ]
    }
   ],
   "source": [
    "# Объединяем датасеты в один\n",
    "df_Base = pd.concat([df_Leather, df_Samples])\n",
    "print(df_Base)\n",
    "# columns = df_Base.columns\n",
    "# print(columns)\n",
    "# for column in columns:\n",
    "#     print(column)\n",
    "#     print(df_Base[column].value_counts(dropna=False))"
   ]
  },
  {
   "cell_type": "code",
   "execution_count": 9,
   "metadata": {},
   "outputs": [
    {
     "name": "stdout",
     "output_type": "stream",
     "text": [
      "           R    G    B\n",
      "5167191  107   67   19\n",
      "378523     1   16  102\n",
      "408516     0  113  220\n",
      "473611   225  222  233\n",
      "4860566  137  133   74\n",
      "...      ...  ...  ...\n",
      "4805476  119  118   64\n",
      "133711   245  246  250\n",
      "117952   252  217  216\n",
      "5605741  187  171  155\n",
      "4578215   82   57   93\n",
      "\n",
      "[341934 rows x 3 columns]            R    G    B\n",
      "6630987  229  109   23\n",
      "6655730   88   84   98\n",
      "6691473  215   79   41\n",
      "87142    247  203  194\n",
      "4811587   76   76   48\n",
      "...      ...  ...  ...\n",
      "6862702  162   55  107\n",
      "1317538  239  114    0\n",
      "532661    98  104  181\n",
      "5705165   81  106   87\n",
      "34160     67  105  135\n",
      "\n",
      "[341934 rows x 3 columns]\n"
     ]
    }
   ],
   "source": [
    "# Разбиваем данные на тренировочные и тестовые \n",
    "from sklearn.model_selection import train_test_split\n",
    "points_train_RGB, points_test_RGB, labels_train_RGB, labels_test_RGB = train_test_split(df_Base.iloc[:, :-1], df_Base['label'], test_size=0.5, random_state=0)\n",
    "print(points_train_RGB, points_test_RGB)"
   ]
  },
  {
   "cell_type": "code",
   "execution_count": 10,
   "metadata": {},
   "outputs": [
    {
     "name": "stdout",
     "output_type": "stream",
     "text": [
      "0.8188714781215088\n"
     ]
    }
   ],
   "source": [
    "# Строим \"наивный классификатор Байеса\"\n",
    "from sklearn.naive_bayes import GaussianNB\n",
    "from sklearn.model_selection import cross_val_score\n",
    "\n",
    "gnb_RGB = GaussianNB()\n",
    "gnb_RGB.fit(points_train_RGB, labels_train_RGB)\n",
    "prediction_RGB = gnb_RGB.predict(points_test_RGB)\n",
    "# print(points_test.assign(predict=prediction))\n",
    "print(format(gnb_RGB.score(points_test_RGB, labels_test_RGB)))\n",
    "# print(labels_train_RGB)"
   ]
  },
  {
   "cell_type": "code",
   "execution_count": 11,
   "metadata": {},
   "outputs": [
    {
     "name": "stdout",
     "output_type": "stream",
     "text": [
      "[0.59524471 0.81774314 0.97945516 0.69636042 0.81449691 0.73840057\n",
      " 0.69595098 0.84103704 0.90264089 0.91561138] SCORES RGB\n",
      "0.7996941205964201 SCORES MEAN RGB\n",
      "0.11207138759838993 SCORES STD RGB\n"
     ]
    }
   ],
   "source": [
    "# Кросс-валидация RGB\n",
    "scores = cross_val_score(gnb_RGB, df_Base[df_Base.columns[:3]], df_Base['label'], cv=10)\n",
    "\n",
    "print(scores, \"SCORES RGB\")\n",
    "print(scores.mean(), \"SCORES MEAN RGB\")\n",
    "print(scores.std(), \"SCORES STD RGB\")"
   ]
  },
  {
   "cell_type": "code",
   "execution_count": 12,
   "metadata": {},
   "outputs": [],
   "source": [
    "# Переводим значения RGB в HSV\n",
    "import colorsys\n",
    "HSV_Leather = []\n",
    "for i in pixels_ALL_Leather:\n",
    "    HSV_Leather.append(colorsys.rgb_to_hsv(i[0], i[1], i[2]))\n",
    "# print(HSV_ALL_Leather)\n",
    "\n",
    "HSV_Samples = []\n",
    "for i in pixels_NOT_Leather:\n",
    "    HSV_Samples.append(colorsys.rgb_to_hsv(i[0], i[1], i[2]))\n",
    "# print(HSV_Samples)"
   ]
  },
  {
   "cell_type": "code",
   "execution_count": 13,
   "metadata": {},
   "outputs": [
    {
     "name": "stdout",
     "output_type": "stream",
     "text": [
      "Index(['H', 'S', 'V', 'label'], dtype='object')\n",
      "H\n",
      "0.333333    670519\n",
      "0.000000    391361\n",
      "0.603261     96960\n",
      "0.600823     85711\n",
      "0.166667     84683\n",
      "             ...  \n",
      "0.178349         1\n",
      "0.814536         1\n",
      "0.487069         1\n",
      "0.392704         1\n",
      "0.028476         1\n",
      "Name: H, Length: 57145, dtype: int64\n",
      "S\n",
      "1.000000    4898037\n",
      "0.000000     224927\n",
      "0.500000      22103\n",
      "0.333333      14765\n",
      "0.400000      10044\n",
      "             ...   \n",
      "0.956349          1\n",
      "0.019704          1\n",
      "0.601594          1\n",
      "0.996000          1\n",
      "0.024845          1\n",
      "Name: S, Length: 19686, dtype: int64\n",
      "V\n",
      "255    965117\n",
      "92     140747\n",
      "81     126474\n",
      "0      109638\n",
      "94      81499\n",
      "        ...  \n",
      "37       5723\n",
      "29       3713\n",
      "21       2563\n",
      "8        2438\n",
      "15       1986\n",
      "Name: V, Length: 256, dtype: int64\n",
      "label\n",
      "0    7880532\n",
      "1     139582\n",
      "Name: label, dtype: int64\n"
     ]
    }
   ],
   "source": [
    "# Присваиваем метки, объединяем датасет\n",
    "df_HSV_Leather = pd.DataFrame(data=HSV_Leather, columns=['H', 'S', 'V'])\n",
    "df_HSV_Leather['label'] = 1\n",
    "\n",
    "df_HSV_Samples = pd.DataFrame(data=HSV_Samples, columns=['H', 'S', 'V'])\n",
    "df_HSV_Samples['label'] = 0\n",
    "df_BaseHSV = pd.concat([df_HSV_Leather, df_HSV_Samples])\n",
    "# print(df_BaseHSV)\n",
    "columns = df_BaseHSV.columns\n",
    "print(columns)\n",
    "for column in columns:\n",
    "    print(column)\n",
    "    print(df_BaseHSV[column].value_counts(dropna=False))"
   ]
  },
  {
   "cell_type": "code",
   "execution_count": 14,
   "metadata": {},
   "outputs": [
    {
     "name": "stdout",
     "output_type": "stream",
     "text": [
      "0.9818376691808448\n"
     ]
    }
   ],
   "source": [
    "# Разбиваем данные на тренировочные и тестовые\n",
    "# Строим \"наивный классификатор Байеса\"\n",
    "points_train_HSV, points_test_HSV, labels_train_HSV, labels_test_HSV = train_test_split(df_BaseHSV.iloc[:, :-1], df_BaseHSV['label'], test_size=0.25, random_state=0)\n",
    "# print(points_train_HSV, points_test_HSV)\n",
    "gnb_HSV = GaussianNB()\n",
    "gnb_HSV.fit(points_train_HSV, labels_train_HSV)\n",
    "prediction_HSV = gnb_HSV.predict(points_test_HSV)\n",
    "# print(points_test.assign(predict=prediction))\n",
    "print(format(gnb_HSV.score(points_test_HSV, labels_test_HSV)))\n",
    "# print(labels_train_HSV)"
   ]
  },
  {
   "cell_type": "code",
   "execution_count": 15,
   "metadata": {},
   "outputs": [
    {
     "name": "stdout",
     "output_type": "stream",
     "text": [
      "[0.98532316 0.99105874 0.99998878 0.98449899 0.98515606 0.99472576\n",
      " 0.99554495 0.99385919 0.98998767 0.89211619] SCORES HSV\n",
      "0.9812259481640947 SCORES MEAN HSV\n",
      "0.030092967385886307 SCORES STD HSV\n"
     ]
    }
   ],
   "source": [
    "# Кросс-валидация HSV\n",
    "scores_HSV = cross_val_score(gnb_HSV, df_BaseHSV[df_BaseHSV.columns[:3]], df_BaseHSV['label'], cv=10)\n",
    "\n",
    "print(scores_HSV, \"SCORES HSV\")\n",
    "print(scores_HSV.mean(), \"SCORES MEAN HSV\")\n",
    "print(scores_HSV.std(), \"SCORES STD HSV\")"
   ]
  },
  {
   "cell_type": "code",
   "execution_count": 16,
   "metadata": {},
   "outputs": [
    {
     "name": "stdout",
     "output_type": "stream",
     "text": [
      "1200\n",
      "3000\n"
     ]
    }
   ],
   "source": [
    "# Тест на изображении\n",
    "imgTEST = Image.open('1222.png')\n",
    "width = imgTEST.size[0] #Определяем ширину.\n",
    "print(width)\n",
    "height = imgTEST.size[1] #Определяем высоту.\n",
    "print(height)\n",
    "pixelsTEST = list(imgTEST.getdata())"
   ]
  },
  {
   "cell_type": "code",
   "execution_count": 17,
   "metadata": {},
   "outputs": [
    {
     "data": {
      "text/plain": [
       "<matplotlib.image.AxesImage at 0x252a83224c0>"
      ]
     },
     "execution_count": 17,
     "metadata": {},
     "output_type": "execute_result"
    },
    {
     "data": {
      "image/png": "[encoded data removed]",
      "text/plain": [
       "<Figure size 432x288 with 1 Axes>"
      ]
     },
     "metadata": {
      "needs_background": "light"
     },
     "output_type": "display_data"
    }
   ],
   "source": [
    "# Создаем массив RGB, выводим первоначальное изображение\n",
    "RGB_TEST = []\n",
    "for i in pixelsTEST:\n",
    "    RGB_TEST.append((i[0], i[1], i[2]))\n",
    "# len(RGB_TEST)\n",
    "import matplotlib.pyplot as plt\n",
    "import matplotlib.image as mpimg\n",
    "array = np.array(RGB_TEST).reshape(height, width, 3)\n",
    "plt.imshow(array.astype(np.uint8))"
   ]
  },
  {
   "cell_type": "code",
   "execution_count": 18,
   "metadata": {},
   "outputs": [],
   "source": [
    "# Заполняем датафрейм RGB\n",
    "points_new_RGB = pd.DataFrame(data=RGB_TEST, columns=['R', 'G', 'B'])\n",
    "predict_TEST_RGB = gnb_RGB.predict(points_new_RGB)\n",
    "points_new_RGB = points_new_RGB.assign(label=predict_TEST_RGB)\n",
    "df_TEST_NEW_RGB = pd.DataFrame(data=points_new_RGB)\n",
    "# print(points_new_RGB[column].value_counts())"
   ]
  },
  {
   "cell_type": "code",
   "execution_count": 19,
   "metadata": {},
   "outputs": [
    {
     "name": "stdout",
     "output_type": "stream",
     "text": [
      "Index(['R', 'G', 'B', 'label'], dtype='object')\n",
      "R\n",
      "116    2368026\n",
      "255      80486\n",
      "50       16173\n",
      "62       16120\n",
      "55       15461\n",
      "        ...   \n",
      "172        378\n",
      "178        361\n",
      "164        311\n",
      "168        300\n",
      "166        288\n",
      "Name: R, Length: 256, dtype: int64\n",
      "G\n",
      "96     2371277\n",
      "46       18470\n",
      "48       18446\n",
      "45       18352\n",
      "49       18108\n",
      "        ...   \n",
      "23           5\n",
      "32           3\n",
      "13           3\n",
      "232          3\n",
      "168          1\n",
      "Name: G, Length: 223, dtype: int64\n",
      "B\n",
      "96     2372768\n",
      "42       18424\n",
      "43       18158\n",
      "37       16397\n",
      "46       16061\n",
      "        ...   \n",
      "230         21\n",
      "232         20\n",
      "228         14\n",
      "231         12\n",
      "233          1\n",
      "Name: B, Length: 234, dtype: int64\n",
      "label\n",
      "0    3416220\n",
      "1     183780\n",
      "Name: label, dtype: int64\n"
     ]
    }
   ],
   "source": [
    "columns = df_TEST_NEW_RGB.columns\n",
    "print(columns)\n",
    "for column in columns:\n",
    "    print(column)\n",
    "    print(df_TEST_NEW_RGB[column].value_counts(dropna=False))"
   ]
  },
  {
   "cell_type": "code",
   "execution_count": 20,
   "metadata": {},
   "outputs": [],
   "source": [
    "RGB = []\n",
    "for it, i in enumerate(RGB_TEST):\n",
    "    i = list(i)\n",
    "    i.append(predict_TEST_RGB[it])\n",
    "    RGB.append(i)\n",
    "RGB_2 = []\n",
    "for it, i in enumerate(RGB):\n",
    "    if (predict_TEST_RGB[it]==1):\n",
    "        i[0] = 255\n",
    "        i[1] = 0\n",
    "        i[2] = 0\n",
    "    RGB_2.append((i[0], i[1], i[2]))"
   ]
  },
  {
   "cell_type": "code",
   "execution_count": 21,
   "metadata": {},
   "outputs": [
    {
     "data": {
      "text/plain": [
       "<matplotlib.image.AxesImage at 0x252aae74820>"
      ]
     },
     "execution_count": 21,
     "metadata": {},
     "output_type": "execute_result"
    },
    {
     "data": {
      "image/png": "[encoded data removed]",
      "text/plain": [
       "<Figure size 432x288 with 1 Axes>"
      ]
     },
     "metadata": {
      "needs_background": "light"
     },
     "output_type": "display_data"
    }
   ],
   "source": [
    "array = np.array(RGB_2).reshape(height, width, 3)\n",
    "plt.imshow(array.astype(np.uint8))"
   ]
  },
  {
   "cell_type": "code",
   "execution_count": 22,
   "metadata": {},
   "outputs": [],
   "source": [
    "# Преобразуем из RGB в HSV\n",
    "HSV_TEST = []\n",
    "for i in pixelsTEST:\n",
    "        HSV_TEST.append(colorsys.rgb_to_hsv(i[0], i[1], i[2]))"
   ]
  },
  {
   "cell_type": "code",
   "execution_count": 23,
   "metadata": {},
   "outputs": [],
   "source": [
    "# np.reshape(HSV_TEST,(len(HSV_TEST), 4))\n",
    "points_new = pd.DataFrame(data=HSV_TEST, columns=['H', 'S', 'V'])\n",
    "# del points_new['Z']\n",
    "predidict_TEST = gnb_HSV.predict(points_new)\n",
    "points_new = points_new.assign(label=predidict_TEST)\n",
    "df_TEST_NEW = pd.DataFrame(data=points_new)"
   ]
  },
  {
   "cell_type": "code",
   "execution_count": 24,
   "metadata": {},
   "outputs": [
    {
     "name": "stdout",
     "output_type": "stream",
     "text": [
      "Index(['H', 'S', 'V', 'label'], dtype='object')\n",
      "H\n",
      "0.000000    2419432\n",
      "0.055556      42971\n",
      "0.083333      39730\n",
      "0.166667      39639\n",
      "0.041667      37142\n",
      "             ...   \n",
      "0.477273          1\n",
      "0.011019          1\n",
      "0.075439          1\n",
      "0.084656          1\n",
      "0.422535          1\n",
      "Name: H, Length: 4289, dtype: int64\n",
      "S\n",
      "0.172414    2361508\n",
      "0.333333      20094\n",
      "0.250000      15811\n",
      "0.000000      15208\n",
      "0.200000      12552\n",
      "             ...   \n",
      "0.827160          1\n",
      "0.406897          1\n",
      "0.612403          1\n",
      "0.688679          1\n",
      "0.585470          1\n",
      "Name: S, Length: 10346, dtype: int64\n",
      "V\n",
      "116    2368013\n",
      "255      80486\n",
      "50       16221\n",
      "62       16162\n",
      "54       15289\n",
      "        ...   \n",
      "170        382\n",
      "178        336\n",
      "164        316\n",
      "168        286\n",
      "166        277\n",
      "Name: V, Length: 256, dtype: int64\n",
      "label\n",
      "0    3426659\n",
      "1     173341\n",
      "Name: label, dtype: int64\n"
     ]
    }
   ],
   "source": [
    "columns = df_TEST_NEW.columns\n",
    "print(columns)\n",
    "for column in columns:\n",
    "    print(column)\n",
    "    print(df_TEST_NEW[column].value_counts(dropna=False))"
   ]
  },
  {
   "cell_type": "code",
   "execution_count": 25,
   "metadata": {},
   "outputs": [],
   "source": [
    "HSV_2 =[]\n",
    "for it, i in enumerate(HSV_TEST):\n",
    "    i = list(i)\n",
    "    i.append(predidict_TEST[it])\n",
    "    HSV_2.append(i)\n",
    "RGB_3 = []\n",
    "for it, i in enumerate(HSV_2):\n",
    "    if (predidict_TEST[it]==1):\n",
    "        i[0] = 0\n",
    "        i[1] = 1\n",
    "        i[2] = 100\n",
    "    RGB_3.append(colorsys.hsv_to_rgb(i[0], i[1], i[2]))"
   ]
  },
  {
   "cell_type": "code",
   "execution_count": 26,
   "metadata": {},
   "outputs": [
    {
     "data": {
      "text/plain": [
       "<matplotlib.image.AxesImage at 0x252f43c9910>"
      ]
     },
     "execution_count": 26,
     "metadata": {},
     "output_type": "execute_result"
    },
    {
     "data": {
      "image/png": "[encoded data removed]",
      "text/plain": [
       "<Figure size 432x288 with 1 Axes>"
      ]
     },
     "metadata": {
      "needs_background": "light"
     },
     "output_type": "display_data"
    }
   ],
   "source": [
    "array = np.array(RGB_3).reshape(height, width, 3)\n",
    "plt.imshow(array.astype(np.uint8))"
   ]
  },
  {
   "cell_type": "code",
   "execution_count": null,
   "metadata": {},
   "outputs": [],
   "source": []
  },
  {
   "cell_type": "code",
   "execution_count": null,
   "metadata": {},
   "outputs": [],
   "source": []
  },
  {
   "cell_type": "code",
   "execution_count": null,
   "metadata": {},
   "outputs": [],
   "source": []
  },
  {
   "cell_type": "code",
   "execution_count": null,
   "metadata": {},
   "outputs": [],
   "source": []
  },
  {
   "cell_type": "code",
   "execution_count": null,
   "metadata": {},
   "outputs": [],
   "source": []
  },
  {
   "cell_type": "code",
   "execution_count": null,
   "metadata": {},
   "outputs": [],
   "source": []
  },
  {
   "cell_type": "code",
   "execution_count": null,
   "metadata": {},
   "outputs": [],
   "source": []
  },
  {
   "cell_type": "code",
   "execution_count": null,
   "metadata": {},
   "outputs": [],
   "source": []
  },
  {
   "cell_type": "code",
   "execution_count": null,
   "metadata": {},
   "outputs": [],
   "source": []
  },
  {
   "cell_type": "code",
   "execution_count": null,
   "metadata": {},
   "outputs": [],
   "source": []
  },
  {
   "cell_type": "code",
   "execution_count": null,
   "metadata": {},
   "outputs": [],
   "source": []
  },
  {
   "cell_type": "code",
   "execution_count": null,
   "metadata": {},
   "outputs": [],
   "source": []
  },
  {
   "cell_type": "code",
   "execution_count": null,
   "metadata": {},
   "outputs": [],
   "source": []
  },
  {
   "cell_type": "code",
   "execution_count": null,
   "metadata": {},
   "outputs": [],
   "source": []
  }
 ],
 "metadata": {
  "kernelspec": {
   "display_name": "Python 3",
   "language": "python",
   "name": "python3"
  },
  "language_info": {
   "codemirror_mode": {
    "name": "ipython",
    "version": 3
   },
   "file_extension": ".py",
   "mimetype": "text/x-python",
   "name": "python",
   "nbconvert_exporter": "python",
   "pygments_lexer": "ipython3",
   "version": "3.8.6"
  }
 },
 "nbformat": 4,
 "nbformat_minor": 4
}
